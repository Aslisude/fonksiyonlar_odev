{
 "cells": [
  {
   "cell_type": "markdown",
   "id": "52cfd401-0038-4f85-8ef8-2b09952e09a0",
   "metadata": {},
   "source": [
    "**Ödev-1:** Kullanıcıdan pi değeri ve yarıçap bilgisi alarak dairenin alanını hesaplayan bir fonksiyon oluşturulur."
   ]
  },
  {
   "cell_type": "code",
   "execution_count": 10,
   "id": "fd23e9b6-06ee-4cd0-9c18-4f068e6b90ed",
   "metadata": {},
   "outputs": [],
   "source": [
    "def daire_alani(pi, yaricap):\n",
    "    alan=pi*(yaricap**2)\n",
    "    pi=float(input(\"pi değerini giriniz:\"))\n",
    "    yaricap=float(input(\"Yarıçap değerini giriniz:\"))\n",
    "    print(\"{} pi değerine sahip ve {} yarıçaplı dairenin alanı {} olur.\".format(pi,yaricap,alan))"
   ]
  },
  {
   "cell_type": "code",
   "execution_count": 14,
   "id": "22ab7abb-c9b7-4021-984a-e83e7ad51f49",
   "metadata": {},
   "outputs": [
    {
     "name": "stdin",
     "output_type": "stream",
     "text": [
      "pi değerini giriniz: 3.14\n",
      "Yarıçap değerini giriniz: 6\n"
     ]
    },
    {
     "name": "stdout",
     "output_type": "stream",
     "text": [
      "3.14 pi değerine sahip ve 6.0 yarıçaplı dairenin alanı 113.04 olur.\n"
     ]
    }
   ],
   "source": [
    "daire_alani(3.14,6)"
   ]
  },
  {
   "cell_type": "markdown",
   "id": "993c0932-c287-496e-9468-9ada76898444",
   "metadata": {},
   "source": [
    "**Ödev-2:** Faktöriyel adında fonksiyon oluşturulur. Döngü kullanarak parametre olarak girilen sayının faktöriyeli hesaplanır. Format metodunu kullanılarak ekrana yazdırılır."
   ]
  },
  {
   "cell_type": "code",
   "execution_count": 22,
   "id": "b284fe9e-265e-49f8-9c4e-1cfa983791eb",
   "metadata": {},
   "outputs": [
    {
     "name": "stdin",
     "output_type": "stream",
     "text": [
      "Lütfen bir sayi giriniz: 3\n"
     ]
    },
    {
     "name": "stdout",
     "output_type": "stream",
     "text": [
      "Girdiğiniz sayının faktöriyeli: 6\n"
     ]
    }
   ],
   "source": [
    "def faktöriyel(sayi):\n",
    "    sonuc=1\n",
    "    for i in range(1, sayi+1):\n",
    "        sonuc *= i\n",
    "    return sonuc\n",
    "sayi=int(input(\"Lütfen bir sayi giriniz:\"))\n",
    "sonuc=faktöriyel(sayi)\n",
    "print(\"Girdiğiniz sayının faktöriyeli: {}\".format(sonuc))"
   ]
  },
  {
   "cell_type": "markdown",
   "id": "81499b47-e282-4a31-9669-d6eab6e87e30",
   "metadata": {},
   "source": [
    "**Ödev-3:** Kişinin fonksiyona doğum yılını vererek kaç yaşında olduğunu hesaplayan bir fonksiyon oluşturun. \r\n",
    "\r\n"
   ]
  },
  {
   "cell_type": "code",
   "execution_count": 48,
   "id": "4fff3790-6313-42f7-9bea-2667400ac0d4",
   "metadata": {},
   "outputs": [],
   "source": [
    "def yas_hesaplama():\n",
    "    yil1=int(input(\"Bulunduğunuz yılı girin:\"))\n",
    "    yil2=int(input(\"Doğduğunz yılı girin:\"))\n",
    "    sonuc=yil1 - yil2\n",
    "\n",
    "    print(\"{} yılında {} yaşındasınız.\".format(yil1,sonuc))"
   ]
  },
  {
   "cell_type": "code",
   "execution_count": 49,
   "id": "74d52311-8fef-42ce-a2a1-1a4c3a1b4e21",
   "metadata": {},
   "outputs": [
    {
     "name": "stdin",
     "output_type": "stream",
     "text": [
      "Bulunduğunuz yılı girin: 2024\n",
      "Doğduğunz yılı girin: 2002\n"
     ]
    },
    {
     "name": "stdout",
     "output_type": "stream",
     "text": [
      "2024 yılında 22 yaşındasınız.\n"
     ]
    }
   ],
   "source": [
    "yas_hesaplama()"
   ]
  },
  {
   "cell_type": "markdown",
   "id": "fa99ec06-d15a-49b5-ae9b-9f538753555e",
   "metadata": {},
   "source": [
    "**Ödev-4:** Doğum yılı ve isim bilgisi verilen fonksiyon kişinin emekli olup olmadığını söylesin.(Kişi 65 yaşında ise emekli olur.) Burada yaş hesabını yukarıdaki örnekteki fonksiyonu kullanarak yapsın.(Yani fonksiyon içinde fonksiyon kullanmanızı istiyorum :)) Kişi 65 yaşında ya da daha fazlaysa \"Emekli oldunuz\" yanıtını, 65 yaşından küçükse emekliliğine kaç yıl kaldığını da hesaplayarak \"(isim) emekliliğine (yıl) kaldı.\" yanıtını versin."
   ]
  },
  {
   "cell_type": "code",
   "execution_count": 50,
   "id": "853dbe49-5497-4ee9-ba3f-7e8e2ee3546f",
   "metadata": {},
   "outputs": [
    {
     "name": "stdin",
     "output_type": "stream",
     "text": [
      "İsminizi girin:  aslı\n",
      "Doğum yılınızı girin:  2002\n"
     ]
    }
   ],
   "source": [
    "def yas_hesapla(dogum_yili):\n",
    "    mevcut_yil = int(input(\"Bulunduğunuz yılı girin:\"))\n",
    "    yas = mevcut_yil - dogum_yili\n",
    "    return yas\n",
    "\n",
    "def emeklilik_durumu(isim, dogum_yili):\n",
    "    yas = yas_hesapla(dogum_yili)\n",
    "    emeklilik_yasi = 65\n",
    "    \n",
    "    if yas >= emeklilik_yasi:\n",
    "        print(\"Emekli oldunuz.\")\n",
    "    else:\n",
    "        kalan_yil = emeklilik_yasi - yas\n",
    "        print(\"{} emekliliğine {} yıl kaldı.\".format(isim, kalan_yil))\n",
    "\n",
    "isim = input(\"İsminizi girin: \")\n",
    "dogum_yili = int(input(\"Doğum yılınızı girin: \"))"
   ]
  },
  {
   "cell_type": "code",
   "execution_count": 51,
   "id": "24fadc0a-53f1-438f-b623-1d95dd8e7808",
   "metadata": {},
   "outputs": [
    {
     "name": "stdin",
     "output_type": "stream",
     "text": [
      "Bulunduğunuz yılı girin: 2024\n"
     ]
    },
    {
     "name": "stdout",
     "output_type": "stream",
     "text": [
      "aslı emekliliğine 43 yıl kaldı.\n"
     ]
    }
   ],
   "source": [
    "emeklilik_durumu(isim, dogum_yili)"
   ]
  }
 ],
 "metadata": {
  "kernelspec": {
   "display_name": "Python 3 (ipykernel)",
   "language": "python",
   "name": "python3"
  },
  "language_info": {
   "codemirror_mode": {
    "name": "ipython",
    "version": 3
   },
   "file_extension": ".py",
   "mimetype": "text/x-python",
   "name": "python",
   "nbconvert_exporter": "python",
   "pygments_lexer": "ipython3",
   "version": "3.11.7"
  }
 },
 "nbformat": 4,
 "nbformat_minor": 5
}
